{
 "cells": [
  {
   "cell_type": "code",
   "execution_count": 2,
   "metadata": {},
   "outputs": [],
   "source": [
    "import subprocess"
   ]
  },
  {
   "cell_type": "code",
   "execution_count": 6,
   "metadata": {},
   "outputs": [
    {
     "name": "stdout",
     "output_type": "stream",
     "text": [
      "total 248\n",
      "-rw-rw-r-- 1 nacho nacho   5871 jul 17 11:24 Dictionaries.ipynb\n",
      "-rw-rw-r-- 1 nacho nacho   6953 jul 17 16:30 Errors.ipynb\n",
      "-rw-rw-r-- 1 nacho nacho     34 jul 17 13:19 example.json\n",
      "-rw-rw-r-- 1 nacho nacho    121 jul 17 13:08 example.txt\n",
      "-rw-rw-r-- 1 nacho nacho   4443 jul 17 13:20 Files.ipynb\n",
      "-rw-rw-r-- 1 nacho nacho   6633 jul 17 12:45 HTTP.ipynb\n",
      "-rw-rw-r-- 1 nacho nacho   6740 jul 17 11:22 Iterators.ipynb\n",
      "-rw------- 1 nacho nacho     65 jul 15 13:07 jupyterhub_cookie_secret\n",
      "-rw-r--r-- 1 nacho nacho 102400 jul 15 13:14 jupyterhub.sqlite\n",
      "-rw-rw-r-- 1 nacho nacho  12634 jul 17 11:29 Lists.ipynb\n",
      "-rw-rw-r-- 1 nacho nacho   2775 jul 17 16:39 OS.ipynb\n",
      "-rw-rw-r-- 1 nacho nacho  54212 jul 17 15:55 Regexp.ipynb\n",
      "-rw-rw-r-- 1 nacho nacho   2792 jul 17 16:35 Sets.ipynb\n",
      "-rw-rw-r-- 1 nacho nacho   6323 jul 17 12:56 Strings.ipynb\n",
      "-rw-rw-r-- 1 nacho nacho   1681 jul 17 09:25 Tuples and sequences.ipynb\n",
      "\n"
     ]
    }
   ],
   "source": [
    "print(\n",
    "    subprocess.run(\n",
    "        ['ls', '-l'], \n",
    "        stdout=subprocess.PIPE\n",
    "    ).stdout.decode('utf-8')\n",
    ")  \n",
    "#stdout is a bytes object\n"
   ]
  },
  {
   "cell_type": "code",
   "execution_count": 4,
   "metadata": {},
   "outputs": [
    {
     "name": "stdout",
     "output_type": "stream",
     "text": [
      "barfoo\n",
      "\n",
      "\n"
     ]
    }
   ],
   "source": [
    "# With input and stderr\n",
    "cmd = ['awk', 'length($0) > 5']  # Imprime solo las lineas que sean mas largas que 5\n",
    "input = 'foo\\nbarfoo\\n'.encode('utf-8')  # Create a bytes object from string\n",
    "\n",
    "result = subprocess.run(\n",
    "    cmd, \n",
    "    stdout=subprocess.PIPE, \n",
    "    stderr=subprocess.PIPE, \n",
    "    input=input\n",
    ")\n",
    "print(result.stdout.decode('utf-8'))\n",
    "print(result.stderr.decode('utf-8'))"
   ]
  }
 ],
 "metadata": {
  "kernelspec": {
   "display_name": "Python 3",
   "language": "python",
   "name": "python3"
  },
  "language_info": {
   "codemirror_mode": {
    "name": "ipython",
    "version": 3
   },
   "file_extension": ".py",
   "mimetype": "text/x-python",
   "name": "python",
   "nbconvert_exporter": "python",
   "pygments_lexer": "ipython3",
   "version": "3.6.5"
  }
 },
 "nbformat": 4,
 "nbformat_minor": 2
}
