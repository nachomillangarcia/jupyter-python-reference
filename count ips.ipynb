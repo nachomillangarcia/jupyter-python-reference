{
 "cells": [
  {
   "cell_type": "code",
   "execution_count": 2,
   "metadata": {
    "scrolled": true
   },
   "outputs": [
    {
     "name": "stdout",
     "output_type": "stream",
     "text": [
      "{'192.168.1.5': 2, '192.168.1.8': 3, '192.168.1.9': 1, '192.168.1.4': 7, '192.168.1.3': 13, '192.168.1.7': 2}\n",
      "['192.168.1.3', '192.168.1.4', '192.168.1.8', '192.168.1.7', '192.168.1.5', '192.168.1.9']\n"
     ]
    }
   ],
   "source": [
    "ips = list()\n",
    "with open(\"logs.txt\") as f:\n",
    "    for line in f:\n",
    "        ips.append(line.split(\",\")[3])\n",
    "\n",
    "occurences = dict()\n",
    "for ip in set(ips):\n",
    "    occurences[ip] = ips.count(ip)\n",
    "\n",
    "print(occurences)\n",
    "\n",
    "ordered = list()\n",
    "for ip, times in occurences.items():\n",
    "    if len(ordered) == 0:\n",
    "        ordered.append(ip)\n",
    "    else:\n",
    "        position = len(ordered)\n",
    "        for i,x in enumerate(ordered):\n",
    "            if times >= occurences[x] and position > i:\n",
    "                position = i\n",
    "        ordered.insert(position,ip)\n",
    "    \n",
    "print(ordered)"
   ]
  },
  {
   "cell_type": "code",
   "execution_count": 3,
   "metadata": {},
   "outputs": [
    {
     "name": "stdout",
     "output_type": "stream",
     "text": [
      "192.168.1.3: 13\n",
      "192.168.1.4: 7\n",
      "192.168.1.8: 3\n",
      "192.168.1.5: 2\n",
      "192.168.1.7: 2\n",
      "192.168.1.9: 1\n"
     ]
    }
   ],
   "source": [
    "for key, value in sorted(occurences.items(), key=lambda k: k[1], reverse=True):\n",
    "    print(\"{}: {}\".format(key, value))\n"
   ]
  },
  {
   "cell_type": "code",
   "execution_count": 9,
   "metadata": {},
   "outputs": [
    {
     "name": "stdout",
     "output_type": "stream",
     "text": [
      "Success!\n"
     ]
    }
   ],
   "source": [
    "# Email validator\n",
    "import re\n",
    "email = \"info@me.com\"\n",
    "match = re.search(r'^[A-Za-z1-9_.]+@[a-z1-9\\-]+\\.[a-z1-9\\-]+$', email)\n",
    "if match:\n",
    "    print(\"Success!\")\n",
    "else:\n",
    "    print(\"{} is not a valid email\".format(email))\n",
    "\n"
   ]
  }
 ],
 "metadata": {
  "kernelspec": {
   "display_name": "Python 3",
   "language": "python",
   "name": "python3"
  },
  "language_info": {
   "codemirror_mode": {
    "name": "ipython",
    "version": 3
   },
   "file_extension": ".py",
   "mimetype": "text/x-python",
   "name": "python",
   "nbconvert_exporter": "python",
   "pygments_lexer": "ipython3",
   "version": "3.6.5"
  }
 },
 "nbformat": 4,
 "nbformat_minor": 2
}
