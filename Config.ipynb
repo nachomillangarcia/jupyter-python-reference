{
 "cells": [
  {
   "cell_type": "markdown",
   "metadata": {},
   "source": [
    "# Config file"
   ]
  },
  {
   "cell_type": "code",
   "execution_count": 24,
   "metadata": {},
   "outputs": [
    {
     "name": "stdout",
     "output_type": "stream",
     "text": [
      "['DATA_BACKEND', 'SECRET_KEY', '__builtins__', '__cached__', '__doc__', '__file__', '__loader__', '__name__', '__package__', '__spec__', 'os']\n",
      "mongodb\n"
     ]
    }
   ],
   "source": [
    "import myconfig2 as config\n",
    "print(dir(config))\n",
    "print(config.DATA_BACKEND)\n"
   ]
  },
  {
   "cell_type": "markdown",
   "metadata": {},
   "source": [
    "# Arguments"
   ]
  },
  {
   "cell_type": "code",
   "execution_count": 37,
   "metadata": {},
   "outputs": [
    {
     "data": {
      "text/plain": [
       "['/home/nacho/anaconda3/lib/python3.6/site-packages/ipykernel_launcher.py',\n",
       " '-f',\n",
       " '/run/user/1000/jupyter/kernel-dc18f03c-59e7-4b0a-92ac-293f8e81eb81.json']"
      ]
     },
     "execution_count": 37,
     "metadata": {},
     "output_type": "execute_result"
    }
   ],
   "source": [
    "import sys\n",
    "sys.argv"
   ]
  },
  {
   "cell_type": "markdown",
   "metadata": {},
   "source": [
    "# Env variables"
   ]
  },
  {
   "cell_type": "code",
   "execution_count": 26,
   "metadata": {},
   "outputs": [
    {
     "name": "stdout",
     "output_type": "stream",
     "text": [
      "default_value\n",
      "/home/nacho\n"
     ]
    }
   ],
   "source": [
    "import os\n",
    "ENV_VAR = os.getenv('KEY_THAT_MIGHT_EXIST', \"default_value\")\n",
    "print(ENV_VAR)\n",
    "\n",
    "HOME = os.getenv('HOME', \"default_value\")\n",
    "print(HOME)\n"
   ]
  },
  {
   "cell_type": "code",
   "execution_count": 29,
   "metadata": {
    "scrolled": true
   },
   "outputs": [
    {
     "data": {
      "text/plain": [
       "environ({'XDG_VTNR': '7', 'LC_PAPER': 'es_ES.UTF-8', 'ORBIT_SOCKETDIR': '/tmp/orbit-nacho', 'LC_ADDRESS': 'es_ES.UTF-8', 'XDG_SESSION_ID': 'c2', 'XDG_GREETER_DATA_DIR': '/var/lib/lightdm-data/nacho', 'LC_MONETARY': 'es_ES.UTF-8', 'TERMINATOR_UUID': 'urn:uuid:d8b98c44-abf3-4a7c-9f04-09eb18d560e1', 'IBUS_DISABLE_SNOOPER': '1', 'CLUTTER_IM_MODULE': 'xim', 'SESSION': 'ubuntu', 'GIO_LAUNCHED_DESKTOP_FILE_PID': '4525', 'GPG_AGENT_INFO': '/home/nacho/.gnupg/S.gpg-agent:0:1', 'XDG_MENU_PREFIX': 'gnome-', 'SHELL': '/bin/bash', 'TERM': 'xterm-color', 'CONDA_SHLVL': '0', 'QT_LINUX_ACCESSIBILITY_ALWAYS_ON': '1', 'GVM_ROOT': '/home/nacho/.gvm', 'WINDOWID': '54525956', 'LC_NUMERIC': 'es_ES.UTF-8', 'UPSTART_SESSION': 'unix:abstract=/com/ubuntu/upstart-session/1000/3660', 'GNOME_KEYRING_CONTROL': '', 'GTK_MODULES': 'gail:atk-bridge:unity-gtk-module', 'USER': 'nacho', 'LS_COLORS': 'rs=0:di=01;34:ln=01;36:mh=00:pi=40;33:so=01;35:do=01;35:bd=40;33;01:cd=40;33;01:or=40;31;01:mi=00:su=37;41:sg=30;43:ca=30;41:tw=30;42:ow=34;42:st=37;44:ex=01;32:*.tar=01;31:*.tgz=01;31:*.arc=01;31:*.arj=01;31:*.taz=01;31:*.lha=01;31:*.lz4=01;31:*.lzh=01;31:*.lzma=01;31:*.tlz=01;31:*.txz=01;31:*.tzo=01;31:*.t7z=01;31:*.zip=01;31:*.z=01;31:*.Z=01;31:*.dz=01;31:*.gz=01;31:*.lrz=01;31:*.lz=01;31:*.lzo=01;31:*.xz=01;31:*.bz2=01;31:*.bz=01;31:*.tbz=01;31:*.tbz2=01;31:*.tz=01;31:*.deb=01;31:*.rpm=01;31:*.jar=01;31:*.war=01;31:*.ear=01;31:*.sar=01;31:*.rar=01;31:*.alz=01;31:*.ace=01;31:*.zoo=01;31:*.cpio=01;31:*.7z=01;31:*.rz=01;31:*.cab=01;31:*.jpg=01;35:*.jpeg=01;35:*.gif=01;35:*.bmp=01;35:*.pbm=01;35:*.pgm=01;35:*.ppm=01;35:*.tga=01;35:*.xbm=01;35:*.xpm=01;35:*.tif=01;35:*.tiff=01;35:*.png=01;35:*.svg=01;35:*.svgz=01;35:*.mng=01;35:*.pcx=01;35:*.mov=01;35:*.mpg=01;35:*.mpeg=01;35:*.m2v=01;35:*.mkv=01;35:*.webm=01;35:*.ogm=01;35:*.mp4=01;35:*.m4v=01;35:*.mp4v=01;35:*.vob=01;35:*.qt=01;35:*.nuv=01;35:*.wmv=01;35:*.asf=01;35:*.rm=01;35:*.rmvb=01;35:*.flc=01;35:*.avi=01;35:*.fli=01;35:*.flv=01;35:*.gl=01;35:*.dl=01;35:*.xcf=01;35:*.xwd=01;35:*.yuv=01;35:*.cgm=01;35:*.emf=01;35:*.ogv=01;35:*.ogx=01;35:*.aac=00;36:*.au=00;36:*.flac=00;36:*.m4a=00;36:*.mid=00;36:*.midi=00;36:*.mka=00;36:*.mp3=00;36:*.mpc=00;36:*.ogg=00;36:*.ra=00;36:*.wav=00;36:*.oga=00;36:*.opus=00;36:*.spx=00;36:*.xspf=00;36:', 'LC_TELEPHONE': 'es_ES.UTF-8', 'QT_ACCESSIBILITY': '1', 'UNITY_HAS_3D_SUPPORT': 'true', 'XDG_SESSION_PATH': '/org/freedesktop/DisplayManager/Session0', 'XDG_SEAT_PATH': '/org/freedesktop/DisplayManager/Seat0', 'SSH_AUTH_SOCK': '/run/user/1000/keyring/ssh', 'DEFAULTS_PATH': '/usr/share/gconf/ubuntu.default.path', 'SESSION_MANAGER': 'local/nacho-ThinkPad-E560:@/tmp/.ICE-unix/4076,unix/nacho-ThinkPad-E560:/tmp/.ICE-unix/4076', 'GIO_LAUNCHED_DESKTOP_FILE': '/usr/share/applications/terminator.desktop', 'XDG_CONFIG_DIRS': '/etc/xdg/xdg-ubuntu:/usr/share/upstart/xdg:/etc/xdg', 'UNITY_DEFAULT_PROFILE': 'unity', 'DESKTOP_SESSION': 'ubuntu', 'PATH': '/home/nacho/anaconda3/bin:/home/nacho/anaconda3/bin:/home/nacho/google-cloud-sdk/bin:/home/nacho/fabric-samples/bin:/home/nacho/.gvm/bin:/home/nacho/bin:/home/nacho/.local/bin:/usr/local/sbin:/usr/local/bin:/usr/sbin:/usr/bin:/sbin:/bin:/usr/games:/usr/local/games:/snap/bin', 'QT_IM_MODULE': 'ibus', 'QT_QPA_PLATFORMTHEME': 'appmenu-qt5', 'LC_IDENTIFICATION': 'es_ES.UTF-8', 'GVM_VERSION': '1.0.22', 'XDG_SESSION_TYPE': 'x11', 'PWD': '/home/nacho/projects/learning-python', 'JOB': 'unity-settings-daemon', 'XMODIFIERS': '@im=ibus', 'EDITOR': 'nano', 'GNOME_KEYRING_PID': '', 'LANG': 'en_US.UTF-8', 'GDM_LANG': 'en_US', 'MANDATORY_PATH': '/usr/share/gconf/ubuntu.mandatory.path', 'LC_MEASUREMENT': 'es_ES.UTF-8', 'COMPIZ_CONFIG_PROFILE': 'ubuntu', 'IM_CONFIG_PHASE': '1', 'GDMSESSION': 'ubuntu', 'SESSIONTYPE': 'gnome-session', 'GTK2_MODULES': 'overlay-scrollbar', 'SHLVL': '1', 'HOME': '/home/nacho', 'XDG_SEAT': 'seat0', 'LANGUAGE': 'en_US', 'GNOME_DESKTOP_SESSION_ID': 'this-is-deprecated', 'UPSTART_INSTANCE': '', 'UPSTART_EVENTS': 'xsession started', 'XDG_SESSION_DESKTOP': 'ubuntu', 'LOGNAME': 'nacho', 'COMPIZ_BIN_PATH': '/usr/bin/', 'DBUS_SESSION_BUS_ADDRESS': 'unix:abstract=/tmp/dbus-7VkNHTh61S', 'XDG_DATA_DIRS': '/usr/share/ubuntu:/usr/share/gnome:/usr/local/share:/usr/share:/var/lib/snapd/desktop', 'QT4_IM_MODULE': 'xim', 'GITHUB_TOKEN': '030f08463043989fd866cf938d0098c142a3060b', 'LESSOPEN': '| /usr/bin/lesspipe %s', 'INSTANCE': '', 'UPSTART_JOB': 'unity7', 'XDG_RUNTIME_DIR': '/run/user/1000', 'DISPLAY': ':0', 'XDG_CURRENT_DESKTOP': 'Unity', 'GTK_IM_MODULE': 'ibus', 'LESSCLOSE': '/usr/bin/lesspipe %s %s', 'LC_TIME': 'es_ES.UTF-8', 'GVM_PATH_BACKUP': '/home/nacho/.gvm/bin:/home/nacho/bin:/home/nacho/.local/bin:/usr/local/sbin:/usr/local/bin:/usr/sbin:/usr/bin:/sbin:/bin:/usr/games:/usr/local/games:/snap/bin', 'LC_NAME': 'es_ES.UTF-8', 'XAUTHORITY': '/home/nacho/.Xauthority', 'COLORTERM': 'gnome-terminal', 'OLDPWD': '/home/nacho', '_': '/home/nacho/anaconda3/bin/jupyter', 'JPY_PARENT_PID': '12277', 'CLICOLOR': '1', 'PAGER': 'cat', 'GIT_PAGER': 'cat', 'MPLBACKEND': 'module://ipykernel.pylab.backend_inline'})"
      ]
     },
     "execution_count": 29,
     "metadata": {},
     "output_type": "execute_result"
    }
   ],
   "source": [
    "os.environ"
   ]
  },
  {
   "cell_type": "code",
   "execution_count": 34,
   "metadata": {},
   "outputs": [
    {
     "name": "stdout",
     "output_type": "stream",
     "text": [
      "HAHAH\n",
      "/home/nacho\n"
     ]
    }
   ],
   "source": [
    "print(os.environ.get(\"XX\",\"HAHAH\"))\n",
    "print(os.environ[\"HOME\"])"
   ]
  }
 ],
 "metadata": {
  "kernelspec": {
   "display_name": "Python 3",
   "language": "python",
   "name": "python3"
  },
  "language_info": {
   "codemirror_mode": {
    "name": "ipython",
    "version": 3
   },
   "file_extension": ".py",
   "mimetype": "text/x-python",
   "name": "python",
   "nbconvert_exporter": "python",
   "pygments_lexer": "ipython3",
   "version": "3.6.5"
  }
 },
 "nbformat": 4,
 "nbformat_minor": 2
}
