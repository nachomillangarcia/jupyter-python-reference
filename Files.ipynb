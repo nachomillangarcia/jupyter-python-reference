{
 "cells": [
  {
   "cell_type": "code",
   "execution_count": 3,
   "metadata": {},
   "outputs": [
    {
     "name": "stdout",
     "output_type": "stream",
     "text": [
      "iyvP8IYVÑIPVBñp\n",
      "LOIHVLVH\n",
      "oyp9g7gvp97g\n",
      "131123\n",
      "\n"
     ]
    }
   ],
   "source": [
    "with open(\"example.txt\") as f:\n",
    "    print(f.read()) # String with whole file\n",
    "    print(f.read()) # Empty string\n",
    "    "
   ]
  },
  {
   "cell_type": "code",
   "execution_count": 10,
   "metadata": {},
   "outputs": [
    {
     "name": "stdout",
     "output_type": "stream",
     "text": [
      "iyvP8IYVÑIPVBñp\n",
      "LOIHVLVH\n"
     ]
    }
   ],
   "source": [
    "with open(\"example.txt\") as f:\n",
    "    print(f.readline().strip())\n",
    "    print(f.readline().strip())\n",
    "    # Empty string at the end"
   ]
  },
  {
   "cell_type": "code",
   "execution_count": 11,
   "metadata": {},
   "outputs": [
    {
     "name": "stdout",
     "output_type": "stream",
     "text": [
      "['iyvP8IYVÑIPVBñp\\n', 'LOIHVLVH\\n', 'oyp9g7gvp97g\\n', '131123']\n"
     ]
    }
   ],
   "source": [
    "with open(\"example.txt\") as f:\n",
    "    print(list(f))"
   ]
  },
  {
   "cell_type": "code",
   "execution_count": 9,
   "metadata": {},
   "outputs": [
    {
     "name": "stdout",
     "output_type": "stream",
     "text": [
      "iyvP8IYVÑIPVBñp\n",
      "LOIHVLVH\n",
      "oyp9g7gvp97g\n",
      "131123"
     ]
    }
   ],
   "source": [
    "with open(\"example.txt\") as example_file:\n",
    "    for line in example_file: print(line, end='')"
   ]
  },
  {
   "cell_type": "code",
   "execution_count": 19,
   "metadata": {},
   "outputs": [
    {
     "name": "stdout",
     "output_type": "stream",
     "text": [
      "22\n"
     ]
    }
   ],
   "source": [
    "with open(\"example.txt\") as example_file:\n",
    "    # Count Uppercase letters in file\n",
    "    count = sum(character.isupper() for line in example_file for character in line)\n",
    "    print(count)"
   ]
  },
  {
   "cell_type": "code",
   "execution_count": 18,
   "metadata": {},
   "outputs": [
    {
     "name": "stdout",
     "output_type": "stream",
     "text": [
      "iyvP8IYVÑIPVBñp\n",
      "LOIHVLVH\n",
      "oyp9g7gvp97g\n",
      "131123This is a test\n",
      "This is a test\n",
      "This is a test\n",
      "This is a test\n",
      "This is a test\n",
      "\n"
     ]
    }
   ],
   "source": [
    "with open(\"example.txt\", 'a') as f:\n",
    "    f.write('This is a test\\n')\n",
    "    # Not readable anymore\n",
    "with open(\"example.txt\", 'r') as f:    \n",
    "    print(f.read())"
   ]
  },
  {
   "cell_type": "markdown",
   "metadata": {},
   "source": [
    "r: read, default\n",
    "\n",
    "w: write (overwriting)\n",
    "\n",
    "a: append\n",
    "\n",
    "r+: read and writing\n",
    "\n",
    "b: binary  (images for example)"
   ]
  },
  {
   "cell_type": "markdown",
   "metadata": {},
   "source": [
    "# JSON"
   ]
  },
  {
   "cell_type": "code",
   "execution_count": 21,
   "metadata": {},
   "outputs": [
    {
     "data": {
      "text/plain": [
       "{'Hello': 'John'}"
      ]
     },
     "execution_count": 21,
     "metadata": {},
     "output_type": "execute_result"
    }
   ],
   "source": [
    "import json\n",
    "with open('example.json') as f:\n",
    "    x = json.load(f)  # Load from file\n",
    "x"
   ]
  },
  {
   "cell_type": "code",
   "execution_count": 24,
   "metadata": {},
   "outputs": [
    {
     "data": {
      "text/plain": [
       "{'Hello': 'John', 'Bye': 'George'}"
      ]
     },
     "execution_count": 24,
     "metadata": {},
     "output_type": "execute_result"
    }
   ],
   "source": [
    "x[\"Bye\"] = \"George\"\n",
    "with open('example.json', 'w') as f:\n",
    "    x = json.dump(x,f)  # Load from file\n",
    "with open('example.json') as f:\n",
    "    x = json.load(f)  # Load from file\n",
    "x"
   ]
  }
 ],
 "metadata": {
  "kernelspec": {
   "display_name": "Python 3",
   "language": "python",
   "name": "python3"
  },
  "language_info": {
   "codemirror_mode": {
    "name": "ipython",
    "version": 3
   },
   "file_extension": ".py",
   "mimetype": "text/x-python",
   "name": "python",
   "nbconvert_exporter": "python",
   "pygments_lexer": "ipython3",
   "version": "3.6.5"
  }
 },
 "nbformat": 4,
 "nbformat_minor": 2
}
